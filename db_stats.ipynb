{
 "cells": [
  {
   "cell_type": "code",
   "execution_count": 16,
   "metadata": {
    "collapsed": true
   },
   "outputs": [
    {
     "name": "stdout",
     "output_type": "stream",
     "text": [
      "9705\n5965\n5226\n[('de', 2642),\n ('la', 1451),\n ('el', 1114),\n ('en', 1040),\n ('que', 1029),\n ('y', 984),\n ('a', 816),\n ('los', 737),\n ('se', 694),\n ('', 650)]\n[('de', 1024),\n ('la', 560),\n ('que', 512),\n ('y', 471),\n ('el', 429),\n ('en', 357),\n ('a', 342),\n ('un', 306),\n ('los', 262),\n ('no', 231)]\n[('de', 1618),\n ('la', 891),\n ('el', 685),\n ('en', 683),\n ('', 575),\n ('que', 517),\n ('y', 513),\n ('se', 478),\n ('los', 475),\n ('a', 474)]\n"
     ]
    }
   ],
   "source": [
    "from pprint import pprint\n",
    "import operator\n",
    "\n",
    "bag_of_words = {}\n",
    "bag_of_words_s = {}\n",
    "bag_of_words_o = {}\n",
    "with open('raw_db.txt', encoding='utf8') as f:\n",
    "    for line in f.read().lower().replace('(', ' ( ').split('\\n'):\n",
    "        label_sent = line.split('@')\n",
    "        label = label_sent[0]\n",
    "        for word in label_sent[1].split(' '):\n",
    "            if word in bag_of_words:\n",
    "                bag_of_words[word] += 1\n",
    "            else:\n",
    "                bag_of_words[word] = 1\n",
    "            if label == 's':\n",
    "                if word in bag_of_words_s:\n",
    "                    bag_of_words_s[word] += 1\n",
    "                else:\n",
    "                    bag_of_words_s[word] = 1\n",
    "            elif label == 'o':\n",
    "                if word in bag_of_words_o:\n",
    "                    bag_of_words_o[word] += 1\n",
    "                else:\n",
    "                    bag_of_words_o[word] = 1\n",
    "\n",
    "bag_of_words = sorted(bag_of_words.items(),\n",
    "                      key=operator.itemgetter(1),\n",
    "                      reverse=True)\n",
    "bag_of_words_o = sorted(bag_of_words_o.items(),\n",
    "                        key=operator.itemgetter(1),\n",
    "                        reverse=True)\n",
    "bag_of_words_s = sorted(bag_of_words_s.items(),\n",
    "                        key=operator.itemgetter(1),\n",
    "                        reverse=True)\n",
    "print(len(bag_of_words))\n",
    "print(len(bag_of_words_s))\n",
    "print(len(bag_of_words_o))\n",
    "pprint(bag_of_words[:10])\n",
    "pprint(bag_of_words_s[:10])\n",
    "pprint(bag_of_words_o[:10])"
   ]
  },
  {
   "cell_type": "code",
   "execution_count": null,
   "metadata": {},
   "outputs": [],
   "source": [
    ""
   ]
  }
 ],
 "metadata": {
  "kernelspec": {
   "display_name": "Python 2",
   "language": "python",
   "name": "python2"
  },
  "language_info": {
   "codemirror_mode": {
    "name": "ipython",
    "version": 2.0
   },
   "file_extension": ".py",
   "mimetype": "text/x-python",
   "name": "python",
   "nbconvert_exporter": "python",
   "pygments_lexer": "ipython2",
   "version": "2.7.6"
  }
 },
 "nbformat": 4,
 "nbformat_minor": 0
}