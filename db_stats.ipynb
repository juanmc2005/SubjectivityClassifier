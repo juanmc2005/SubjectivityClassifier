{
 "cells": [
  {
   "cell_type": "code",
   "execution_count": null,
   "metadata": {
    "collapsed": false
   },
   "outputs": [],
   "source": [
    ""
   ]
  },
  {
   "cell_type": "code",
   "execution_count": 18,
   "metadata": {},
   "outputs": [
    {
     "name": "stdout",
     "output_type": "stream",
     "text": [
      "7077\n[('de', 2642),\n ('la', 1451),\n ('el', 1114),\n ('en', 1040),\n ('que', 1029),\n ('y', 984),\n ('a', 816),\n ('los', 737),\n ('se', 694),\n ('un', 605),\n ('las', 459),\n ('con', 403),\n ('por', 397),\n ('una', 373),\n ('del', 372),\n ('para', 367),\n ('no', 337),\n ('su', 283),\n ('es', 280),\n ('al', 222),\n ('como', 210),\n ('lo', 167),\n ('más', 163),\n ('este', 158),\n ('sus', 147),\n ('cada', 118),\n ('me', 114),\n ('esta', 109),\n ('pero', 104),\n ('o', 102),\n ('le', 101)]\n"
     ]
    }
   ],
   "source": [
    "from pprint import pprint\n",
    "import operator\n",
    "\n",
    "bag_of_words = {}\n",
    "bag_of_words_s = {}\n",
    "bag_of_words_o = {}\n",
    "with open('raw_db.txt', encoding='utf8') as f:\n",
    "    for line in f.read().lower().replace('(', ' ( ').split('\\n'):\n",
    "        label_sent = line.split('@')\n",
    "        label = label_sent[0]\n",
    "        for word in label_sent[1].split(' '):\n",
    "            if word.isalnum():\n",
    "                if word in bag_of_words:\n",
    "                    bag_of_words[word] += 1\n",
    "                else:\n",
    "                    bag_of_words[word] = 1\n",
    "                if label == 's':\n",
    "                    if word in bag_of_words_s:\n",
    "                        bag_of_words_s[word] += 1\n",
    "                    else:\n",
    "                        bag_of_words_s[word] = 1\n",
    "                elif label == 'o':\n",
    "                    if word in bag_of_words_o:\n",
    "                        bag_of_words_o[word] += 1\n",
    "                    else:\n",
    "                        bag_of_words_o[word] = 1\n",
    "\n",
    "bag_of_words = sorted(bag_of_words.items(),\n",
    "                      key=operator.itemgetter(1),\n",
    "                      reverse=True)\n",
    "bag_of_words_o = sorted(bag_of_words_o.items(),\n",
    "                        key=operator.itemgetter(1),\n",
    "                        reverse=True)\n",
    "bag_of_words_s = sorted(bag_of_words_s.items(),\n",
    "                        key=operator.itemgetter(1),\n",
    "                        reverse=True)\n",
    "print(len(bag_of_words))\n",
    "# print(len(bag_of_words_s))\n",
    "# print(len(bag_of_words_o))\n",
    "stop_list = list(filter(lambda x: x[1] >= 100, bag_of_words[:50]))\n",
    "pprint(stop_list)\n",
    "# pprint(bag_of_words_s[:10])\n",
    "# pprint(bag_of_words_o[:10])"
   ]
  },
  {
   "cell_type": "code",
   "execution_count": 20,
   "metadata": {},
   "outputs": [],
   "source": [
    "with open('stop_list.txt', 'a', encoding='utf8') as slfile:\n",
    "    for pair in stop_list:\n",
    "        slfile.write(pair[0] + '\\n')"
   ]
  },
  {
   "cell_type": "code",
   "execution_count": null,
   "metadata": {},
   "outputs": [],
   "source": [
    ""
   ]
  }
 ],
 "metadata": {
  "kernelspec": {
   "display_name": "Python 2",
   "language": "python",
   "name": "python2"
  },
  "language_info": {
   "codemirror_mode": {
    "name": "ipython",
    "version": 2.0
   },
   "file_extension": ".py",
   "mimetype": "text/x-python",
   "name": "python",
   "nbconvert_exporter": "python",
   "pygments_lexer": "ipython2",
   "version": "2.7.6"
  }
 },
 "nbformat": 4,
 "nbformat_minor": 0
}