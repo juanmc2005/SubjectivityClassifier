{
 "cells": [
  {
   "cell_type": "code",
   "execution_count": 2,
   "metadata": {
    "collapsed": true
   },
   "outputs": [
    {
     "name": "stdout",
     "output_type": "stream",
     "text": [
      "61\n['En',\n 'documento',\n 'muestran',\n 'dos',\n 'tipos',\n 'algoritmos',\n 'metaheurísticos',\n 'aplicados',\n 'diseño',\n 'inteligente',\n 'parque',\n 'eólico',\n 'idea',\n 'básica',\n 'utilizar',\n 'CHC',\n 'algoritmos',\n 'genéticos',\n 'obtener',\n 'buena',\n 'configuración',\n 'molinos',\n 'dentro',\n 'parque',\n 'tal',\n 'manera',\n 'maximicen',\n 'energía',\n 'total',\n 'producida',\n 'minimicen',\n 'cantidad',\n 'molinos',\n 'utilizados']\n"
     ]
    }
   ],
   "source": [
    "from functools import reduce\n",
    "from pprint import pprint\n",
    "\n",
    "res = []\n",
    "\n",
    "with open('stop_list.txt', encoding='utf8') as stop_file:\n",
    "    stop_list = stop_file.read().split('\\n')\n",
    "\n",
    "with open('raw_db.txt', encoding='utf8') as db:\n",
    "    for line in db.read().split('\\n'):\n",
    "        components = line.split('@')\n",
    "        label = components[0]\n",
    "        sentence = components[1].replace(',', '').replace('.', '')\n",
    "        words = list(filter(\n",
    "            lambda w: w.isalnum() and w not in stop_list,\n",
    "            sentence.split(' ')))\n",
    "        res.append(words)\n",
    "    \n",
    "res = list(filter(lambda ws: ws, res))\n",
    "pprint(reduce(lambda x, ws: len(ws) if len(ws) > x else x, res, 0))\n",
    "pprint(res[0])"
   ]
  },
  {
   "cell_type": "code",
   "execution_count": null,
   "metadata": {},
   "outputs": [],
   "source": [
    "import numpy as np\n",
    "from keras.models import Sequential\n",
    "\n",
    "for sentence in res:\n",
    "    # TODO sentence word matrix\n",
    "    for word in sentence:\n",
    "        # TODO build word vector\n",
    "        pass"
   ]
  }
 ],
 "metadata": {
  "kernelspec": {
   "display_name": "Python 2",
   "language": "python",
   "name": "python2"
  },
  "language_info": {
   "codemirror_mode": {
    "name": "ipython",
    "version": 2.0
   },
   "file_extension": ".py",
   "mimetype": "text/x-python",
   "name": "python",
   "nbconvert_exporter": "python",
   "pygments_lexer": "ipython2",
   "version": "2.7.6"
  }
 },
 "nbformat": 4,
 "nbformat_minor": 0
}